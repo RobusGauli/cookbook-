{
 "cells": [
  {
   "cell_type": "code",
   "execution_count": 1,
   "metadata": {
    "collapsed": true
   },
   "outputs": [],
   "source": [
    "#problem 1\n",
    "#write a implmentation of built in range function in python\n",
    "#using iteration pattern and not generator patter"
   ]
  },
  {
   "cell_type": "code",
   "execution_count": 108,
   "metadata": {
    "collapsed": false
   },
   "outputs": [],
   "source": [
    "class Counter(object):\n",
    "    '''implementing my range fucntion'''\n",
    "    \n",
    "    def __init__(self, *args, step=1):\n",
    "        if len(args) > 3 :\n",
    "            raise TypeError('Expected atmost 3 arguments but got {!r}'.format(len(args)))\n",
    "        self.start = 0 if len(args)==1 else args[0]\n",
    "        self.end = args[0] if len(args)==1 else args[1]\n",
    "        self.step = args[2] if len(args)==3 else 1\n",
    "        \n",
    "            \n",
    "    def __iter__(self):\n",
    "        #return the iterator object that implements the __next__method\n",
    "        return self\n",
    "    \n",
    "    def __next__(self):\n",
    "        if self.start >= self.end:\n",
    "            raise StopIteration\n",
    "        self.start += self.step\n",
    "        return self.start - self.step\n",
    "    \n",
    "        \n",
    "    "
   ]
  },
  {
   "cell_type": "code",
   "execution_count": 107,
   "metadata": {
    "collapsed": false
   },
   "outputs": [
    {
     "name": "stdout",
     "output_type": "stream",
     "text": [
      "2\n",
      "4\n",
      "6\n",
      "8\n"
     ]
    }
   ],
   "source": [
    "#implemetation of range() builin function\n",
    "for i in Counter(2,10,2):\n",
    "    print(i)"
   ]
  },
  {
   "cell_type": "code",
   "execution_count": 106,
   "metadata": {
    "collapsed": false
   },
   "outputs": [
    {
     "name": "stdout",
     "output_type": "stream",
     "text": [
      "2\n",
      "4\n",
      "6\n",
      "8\n"
     ]
    }
   ],
   "source": [
    "for i in range(2, 10, 2):\n",
    "    print(i)"
   ]
  },
  {
   "cell_type": "code",
   "execution_count": 109,
   "metadata": {
    "collapsed": true
   },
   "outputs": [],
   "source": [
    "#now implemening the same counter using the generator pattern,\n",
    "\n",
    "def counter(start, end, step):\n",
    "    \n",
    "    x = start\n",
    "    while True:\n",
    "        if x >= end:\n",
    "            break\n",
    "        yield x\n",
    "        x += step"
   ]
  },
  {
   "cell_type": "code",
   "execution_count": 110,
   "metadata": {
    "collapsed": true
   },
   "outputs": [],
   "source": [
    "c = counter(3,12,2)"
   ]
  },
  {
   "cell_type": "code",
   "execution_count": 112,
   "metadata": {
    "collapsed": false
   },
   "outputs": [
    {
     "name": "stdout",
     "output_type": "stream",
     "text": [
      "3\n",
      "7\n",
      "11\n"
     ]
    }
   ],
   "source": [
    "for i in counter(3,12,4):\n",
    "    print(i)"
   ]
  },
  {
   "cell_type": "code",
   "execution_count": 113,
   "metadata": {
    "collapsed": false
   },
   "outputs": [
    {
     "data": {
      "text/plain": [
       "[4, 6, 8]"
      ]
     },
     "execution_count": 113,
     "metadata": {},
     "output_type": "execute_result"
    }
   ],
   "source": [
    "list(counter(4,10,2))"
   ]
  },
  {
   "cell_type": "code",
   "execution_count": 114,
   "metadata": {
    "collapsed": false
   },
   "outputs": [
    {
     "data": {
      "text/plain": [
       "[1, 4, 7, 10, 13, 16, 19, 22]"
      ]
     },
     "execution_count": 114,
     "metadata": {},
     "output_type": "execute_result"
    }
   ],
   "source": [
    "list(counter(1,23,3))"
   ]
  },
  {
   "cell_type": "code",
   "execution_count": 115,
   "metadata": {
    "collapsed": false
   },
   "outputs": [
    {
     "data": {
      "text/plain": [
       "[1, 3, 5, 7, 9, 11]"
      ]
     },
     "execution_count": 115,
     "metadata": {},
     "output_type": "execute_result"
    }
   ],
   "source": [
    "list(Counter(1,12,2))"
   ]
  },
  {
   "cell_type": "code",
   "execution_count": 118,
   "metadata": {
    "collapsed": false
   },
   "outputs": [
    {
     "data": {
      "text/plain": [
       "45"
      ]
     },
     "execution_count": 118,
     "metadata": {},
     "output_type": "execute_result"
    }
   ],
   "source": [
    "sum(counter(1,10,1))"
   ]
  },
  {
   "cell_type": "code",
   "execution_count": 119,
   "metadata": {
    "collapsed": false
   },
   "outputs": [
    {
     "data": {
      "text/plain": [
       "33"
      ]
     },
     "execution_count": 119,
     "metadata": {},
     "output_type": "execute_result"
    }
   ],
   "source": [
    "max(counter(1,34,1))"
   ]
  },
  {
   "cell_type": "code",
   "execution_count": 140,
   "metadata": {
    "collapsed": true
   },
   "outputs": [],
   "source": [
    "#create a customer countdown timer using the generator pattern \n",
    "import time\n",
    "def countdown(n):\n",
    "    \n",
    "    while True:\n",
    "        if n <= 0:\n",
    "            break\n",
    "        yield n\n",
    "        time.sleep(1)\n",
    "        n -= 1\n",
    "    "
   ]
  },
  {
   "cell_type": "code",
   "execution_count": 143,
   "metadata": {
    "collapsed": false
   },
   "outputs": [
    {
     "name": "stdout",
     "output_type": "stream",
     "text": [
      "CPU times: user 3 µs, sys: 1 µs, total: 4 µs\n",
      "Wall time: 6.91 µs\n",
      "5\n",
      "4\n",
      "3\n",
      "2\n",
      "1\n"
     ]
    }
   ],
   "source": [
    "%time\n",
    "for i in countdown(5):\n",
    "    print(i)"
   ]
  },
  {
   "cell_type": "code",
   "execution_count": 156,
   "metadata": {
    "collapsed": true
   },
   "outputs": [],
   "source": [
    "#implementation of binarry tree and depth first iteration\n",
    "\n",
    "class Node:\n",
    "    \n",
    "    def __init__(self, value):\n",
    "        self._value = value\n",
    "        self._children = []\n",
    "    \n",
    "    def addChild(self, node):\n",
    "        self._children.append(node)\n",
    "        \n",
    "    def __iter__(self):\n",
    "        return iter(self._children)\n",
    "    \n",
    "    \n",
    "    def __repr__(self):\n",
    "        return 'Node({!r})'.format(self._value)\n",
    "    \n",
    "    def depth_first(self):\n",
    "        return DepthFirstIterator(self)"
   ]
  },
  {
   "cell_type": "code",
   "execution_count": null,
   "metadata": {
    "collapsed": true
   },
   "outputs": [],
   "source": [
    "class DepthFirstIterator(object):\n",
    "    \n",
    "    def __init__(self, node):\n",
    "        self._node = start_node\n",
    "        self._children = None\n",
    "        self._child = None\n",
    "        \n",
    "    def __iter__(self):\n",
    "        return self\n",
    "    \n",
    "    def __next__(self):\n",
    "        #first set the children node\n",
    "        if self._children is None:\n",
    "            self._children = iter(self._node)\n",
    "            return self._node\n",
    "        \n",
    "        elif self._child:\n",
    "            \n",
    "            "
   ]
  },
  {
   "cell_type": "code",
   "execution_count": 152,
   "metadata": {
    "collapsed": true
   },
   "outputs": [],
   "source": [
    "node = Node(34)\n",
    "child1 = Node(45)\n",
    "child2 = Node(56)\n",
    "\n",
    "node._children.append(child1)\n",
    "node._children.append(child2)\n",
    "\n",
    "c1 = Node(67)\n",
    "child1._children.append(c1)"
   ]
  },
  {
   "cell_type": "code",
   "execution_count": 153,
   "metadata": {
    "collapsed": false
   },
   "outputs": [
    {
     "name": "stdout",
     "output_type": "stream",
     "text": [
      "45\n",
      "56\n"
     ]
    }
   ],
   "source": [
    "for i in node:\n",
    "    print(i._value)"
   ]
  },
  {
   "cell_type": "code",
   "execution_count": 154,
   "metadata": {
    "collapsed": false
   },
   "outputs": [
    {
     "name": "stdout",
     "output_type": "stream",
     "text": [
      "67\n"
     ]
    }
   ],
   "source": [
    "for i in child1:\n",
    "    print(i._value)"
   ]
  },
  {
   "cell_type": "code",
   "execution_count": 155,
   "metadata": {
    "collapsed": false
   },
   "outputs": [
    {
     "name": "stdout",
     "output_type": "stream",
     "text": [
      "Node(45)\n",
      "Node(56)\n"
     ]
    }
   ],
   "source": [
    "for i in node:\n",
    "    print(i)"
   ]
  },
  {
   "cell_type": "code",
   "execution_count": 226,
   "metadata": {
    "collapsed": false
   },
   "outputs": [],
   "source": [
    "class Node:\n",
    "    '''impleemnetation of graph tree'''\n",
    "    def __init__(self,value, children=None):\n",
    "        self.value = value\n",
    "        self.children = [] if children is None else children\n",
    "        \n",
    "    def __iter__(self):\n",
    "        return iter(self.children)\n",
    "    \n",
    "    def has_children(self):\n",
    "        return True if self.children else False\n",
    "    \n",
    "    def addChild(self, node):\n",
    "        self.children.append(node)\n",
    "        \n",
    "    def get_value(self):\n",
    "        return self.value\n",
    "    def __repr__(self):\n",
    "        return 'Node({!r})'.format(self.value)\n",
    "    \n",
    "        "
   ]
  },
  {
   "cell_type": "code",
   "execution_count": 227,
   "metadata": {
    "collapsed": true
   },
   "outputs": [],
   "source": [
    "one = Node(1)\n",
    "two = Node(2)\n",
    "three = Node(3)\n",
    "four = Node(4)\n",
    "five = Node(5)\n",
    "six = Node(6)\n",
    "seven = Node(7)\n",
    "eight = Node(8)\n",
    "\n",
    "#\n",
    "one.addChild(two)\n",
    "one.addChild(three)\n",
    "\n",
    "two.addChild(four)\n",
    "two.addChild(five)\n",
    "\n",
    "three.addChild(six)\n",
    "three.addChild(eight)"
   ]
  },
  {
   "cell_type": "code",
   "execution_count": 229,
   "metadata": {
    "collapsed": false
   },
   "outputs": [
    {
     "name": "stdout",
     "output_type": "stream",
     "text": [
      "Node(2)\n",
      "Node(3)\n"
     ]
    }
   ],
   "source": [
    "for child in one:\n",
    "    print(child)"
   ]
  },
  {
   "cell_type": "code",
   "execution_count": 228,
   "metadata": {
    "collapsed": false
   },
   "outputs": [
    {
     "name": "stdout",
     "output_type": "stream",
     "text": [
      "Node(4)\n",
      "Node(5)\n"
     ]
    }
   ],
   "source": [
    "for child in two:\n",
    "    print(child)"
   ]
  },
  {
   "cell_type": "code",
   "execution_count": 201,
   "metadata": {
    "collapsed": false
   },
   "outputs": [
    {
     "name": "stdout",
     "output_type": "stream",
     "text": [
      "Node(6)\n",
      "Node(8)\n"
     ]
    }
   ],
   "source": [
    "for child in three:\n",
    "    print(child)"
   ]
  },
  {
   "cell_type": "code",
   "execution_count": 202,
   "metadata": {
    "collapsed": false
   },
   "outputs": [
    {
     "data": {
      "text/plain": [
       "False"
      ]
     },
     "execution_count": 202,
     "metadata": {},
     "output_type": "execute_result"
    }
   ],
   "source": [
    "four.has_children()"
   ]
  },
  {
   "cell_type": "code",
   "execution_count": 203,
   "metadata": {
    "collapsed": false
   },
   "outputs": [
    {
     "data": {
      "text/plain": [
       "True"
      ]
     },
     "execution_count": 203,
     "metadata": {},
     "output_type": "execute_result"
    }
   ],
   "source": [
    "one.has_children()"
   ]
  },
  {
   "cell_type": "code",
   "execution_count": 230,
   "metadata": {
    "collapsed": true
   },
   "outputs": [],
   "source": [
    "def iterateNode(node):\n",
    "    print(node)\n",
    "    for child in node:\n",
    "        iterateNode(child)"
   ]
  },
  {
   "cell_type": "code",
   "execution_count": 231,
   "metadata": {
    "collapsed": false
   },
   "outputs": [
    {
     "name": "stdout",
     "output_type": "stream",
     "text": [
      "Node(2)\n",
      "Node(4)\n",
      "Node(5)\n"
     ]
    }
   ],
   "source": [
    "iterateNode(two)"
   ]
  },
  {
   "cell_type": "code",
   "execution_count": 248,
   "metadata": {
    "collapsed": true
   },
   "outputs": [],
   "source": [
    "#implementation od node structure\n",
    "\n",
    "class Node(object):\n",
    "    '''actual implementation of tree strucuture'''\n",
    "    def __init__(self, value, children=None):\n",
    "        self.value = value\n",
    "        self.children = [] if children is None else children\n",
    "        \n",
    "    def __repr__(self):\n",
    "        return 'Node({!r})'.format(self.value)\n",
    "    \n",
    "    def add_child(self, node):\n",
    "        self.children.append(node)\n",
    "        \n",
    "    def __iter__(self):\n",
    "        return iter(self.children)\n",
    "    \n",
    "    def depth_first(self):\n",
    "        yield self\n",
    "        for child in self.children:\n",
    "            yield from child.depth_first()"
   ]
  },
  {
   "cell_type": "code",
   "execution_count": 249,
   "metadata": {
    "collapsed": false
   },
   "outputs": [],
   "source": [
    "one = Node(1)\n",
    "two = Node(2)\n",
    "three = Node(3)\n",
    "four = Node(4)\n",
    "five = Node(5)\n",
    "six = Node(6)\n",
    "seven = Node(7)\n",
    "eight = Node(8)\n",
    "\n",
    "#\n",
    "one.add_child(two)\n",
    "one.add_child(three)\n",
    "\n",
    "two.add_child(four)\n",
    "two.add_child(five)\n",
    "\n",
    "three.add_child(six)\n",
    "three.add_child(eight)"
   ]
  },
  {
   "cell_type": "code",
   "execution_count": 250,
   "metadata": {
    "collapsed": false
   },
   "outputs": [
    {
     "name": "stdout",
     "output_type": "stream",
     "text": [
      "Node(1)\n",
      "Node(2)\n",
      "Node(4)\n",
      "Node(5)\n",
      "Node(3)\n",
      "Node(6)\n",
      "Node(8)\n"
     ]
    }
   ],
   "source": [
    "for node in one.depth_first():\n",
    "    print(node)"
   ]
  },
  {
   "cell_type": "code",
   "execution_count": 252,
   "metadata": {
    "collapsed": false
   },
   "outputs": [
    {
     "data": {
      "text/plain": [
       "[Node(1), Node(2), Node(4), Node(5), Node(3), Node(6), Node(8)]"
      ]
     },
     "execution_count": 252,
     "metadata": {},
     "output_type": "execute_result"
    }
   ],
   "source": [
    "#problem \n",
    "#iterate over the iterable in reversed\n",
    "\n",
    "list(one.depth_first())"
   ]
  },
  {
   "cell_type": "code",
   "execution_count": 254,
   "metadata": {
    "collapsed": false
   },
   "outputs": [
    {
     "name": "stdout",
     "output_type": "stream",
     "text": [
      "Node(8)\n",
      "Node(6)\n",
      "Node(3)\n",
      "Node(5)\n",
      "Node(4)\n",
      "Node(2)\n",
      "Node(1)\n"
     ]
    }
   ],
   "source": [
    "for node in reversed(list(one.depth_first())):\n",
    "    print(node)"
   ]
  },
  {
   "cell_type": "code",
   "execution_count": 255,
   "metadata": {
    "collapsed": true
   },
   "outputs": [],
   "source": [
    "#problem the custome rclass that has a counter functionnality and has the\n",
    "#__reversed__ defined"
   ]
  },
  {
   "cell_type": "code",
   "execution_count": 268,
   "metadata": {
    "collapsed": false
   },
   "outputs": [],
   "source": [
    "#since reversed requires the arguments already converted into list, so \n",
    "#it might take moore spaces \n",
    "#so its always better idea to implement reversed in the custom class\n",
    "\n",
    "class Counter(object):\n",
    "    def __init__(self, start, end, step=1):\n",
    "        self.start = start\n",
    "        self.end = end\n",
    "        self.step = step\n",
    "        \n",
    "    def __iter__(self):\n",
    "        #this return the generator object rather than iterator\n",
    "        #we can do this in generator pattern\n",
    "        \n",
    "        while True:\n",
    "            if self.start >= self.end:\n",
    "                break\n",
    "            yield self.start\n",
    "            self.start += self.step\n",
    "            \n",
    "    #implement the reversed\n",
    "    def __reversed__(self):\n",
    "        while True:\n",
    "            if self.end < self.start:\n",
    "                break\n",
    "            yield self.end\n",
    "            self.end -= self.step"
   ]
  },
  {
   "cell_type": "code",
   "execution_count": 269,
   "metadata": {
    "collapsed": false
   },
   "outputs": [
    {
     "name": "stdout",
     "output_type": "stream",
     "text": [
      "4\n",
      "5\n",
      "6\n",
      "7\n"
     ]
    }
   ],
   "source": [
    "for i in Counter(4,8):\n",
    "    print(i)"
   ]
  },
  {
   "cell_type": "code",
   "execution_count": 270,
   "metadata": {
    "collapsed": false
   },
   "outputs": [
    {
     "name": "stdout",
     "output_type": "stream",
     "text": [
      "8\n",
      "7\n",
      "6\n",
      "5\n",
      "4\n"
     ]
    }
   ],
   "source": [
    "for i in reversed(Counter(4,8)):\n",
    "    print(i)"
   ]
  },
  {
   "cell_type": "code",
   "execution_count": 316,
   "metadata": {
    "collapsed": false
   },
   "outputs": [],
   "source": [
    "def dropWhile(f, key=None):\n",
    "    '''this function generates the item if the each item in iteratble pass the test'''\n",
    "    for item in f:\n",
    "        if key(item): yield item"
   ]
  },
  {
   "cell_type": "code",
   "execution_count": 329,
   "metadata": {
    "collapsed": false
   },
   "outputs": [
    {
     "name": "stdout",
     "output_type": "stream",
     "text": [
      "...\n",
      "\n",
      "nobody:*:-2:-2:Unprivileged User:/var/empty:/usr/bin/false\n",
      "\n",
      "root:*:0:0:System Administrator:/var/root:/bin/sh\n"
     ]
    }
   ],
   "source": [
    "#filtering the comments from the text file\n",
    "with open('lines.txt', 'r') as file:\n",
    "    for line in dropWhile(file, key=lambda line : not line.startswith('#')):\n",
    "        print(line)"
   ]
  },
  {
   "cell_type": "code",
   "execution_count": 349,
   "metadata": {
    "collapsed": true
   },
   "outputs": [],
   "source": [
    "def filter_comment(lines):\n",
    "    for line in lines:\n",
    "        if not line.startswith('#'):\n",
    "            yield line\n",
    "            \n",
    "def filter_python(lines):\n",
    "    for line in lines:\n",
    "        if 'python' in line:\n",
    "            yield line"
   ]
  },
  {
   "cell_type": "code",
   "execution_count": 353,
   "metadata": {
    "collapsed": false
   },
   "outputs": [
    {
     "name": "stdout",
     "output_type": "stream",
     "text": [
      "python \n",
      "python this is\n"
     ]
    }
   ],
   "source": [
    "#a coroutine using generator that sets up a processing pipeline \n",
    "#this is more faster since it doesnt create any listot tuple to process all this\n",
    "with open('lines.txt') as file:\n",
    "    f = filter_comment(file)\n",
    "    c = filter_python(f)\n",
    "    for line in c:\n",
    "        print(line, end='')"
   ]
  },
  {
   "cell_type": "code",
   "execution_count": 355,
   "metadata": {
    "collapsed": false
   },
   "outputs": [
    {
     "ename": "KeyboardInterrupt",
     "evalue": "",
     "output_type": "error",
     "traceback": [
      "\u001b[0;31m---------------------------------------------------------------------------\u001b[0m",
      "\u001b[0;31mKeyboardInterrupt\u001b[0m                         Traceback (most recent call last)",
      "\u001b[0;32m<ipython-input-355-385a01e99e5a>\u001b[0m in \u001b[0;36m<module>\u001b[0;34m()\u001b[0m\n\u001b[1;32m     12\u001b[0m             \u001b[0mout_file\u001b[0m\u001b[0;34m.\u001b[0m\u001b[0mflush\u001b[0m\u001b[0;34m(\u001b[0m\u001b[0;34m)\u001b[0m\u001b[0;34m\u001b[0m\u001b[0m\n\u001b[1;32m     13\u001b[0m \u001b[0;34m\u001b[0m\u001b[0m\n\u001b[0;32m---> 14\u001b[0;31m \u001b[0mstart_process\u001b[0m\u001b[0;34m(\u001b[0m\u001b[0;34m)\u001b[0m\u001b[0;34m\u001b[0m\u001b[0m\n\u001b[0m\u001b[1;32m     15\u001b[0m \u001b[0;34m\u001b[0m\u001b[0m\n",
      "\u001b[0;32m<ipython-input-355-385a01e99e5a>\u001b[0m in \u001b[0;36mstart_process\u001b[0;34m()\u001b[0m\n\u001b[1;32m      5\u001b[0m     \u001b[0mout_file\u001b[0m \u001b[0;34m=\u001b[0m \u001b[0mopen\u001b[0m\u001b[0;34m(\u001b[0m\u001b[0;34m'out.txt'\u001b[0m\u001b[0;34m,\u001b[0m \u001b[0mmode\u001b[0m\u001b[0;34m=\u001b[0m\u001b[0;34m'w'\u001b[0m\u001b[0;34m)\u001b[0m\u001b[0;34m\u001b[0m\u001b[0m\n\u001b[1;32m      6\u001b[0m     \u001b[0;32mwhile\u001b[0m \u001b[0;32mTrue\u001b[0m\u001b[0;34m:\u001b[0m\u001b[0;34m\u001b[0m\u001b[0m\n\u001b[0;32m----> 7\u001b[0;31m         \u001b[0mtime\u001b[0m\u001b[0;34m.\u001b[0m\u001b[0msleep\u001b[0m\u001b[0;34m(\u001b[0m\u001b[0;36m1\u001b[0m\u001b[0;34m)\u001b[0m\u001b[0;34m\u001b[0m\u001b[0m\n\u001b[0m\u001b[1;32m      8\u001b[0m         \u001b[0ml\u001b[0m \u001b[0;34m=\u001b[0m \u001b[0mfilter_comment\u001b[0m\u001b[0;34m(\u001b[0m\u001b[0mfile\u001b[0m\u001b[0;34m)\u001b[0m\u001b[0;34m\u001b[0m\u001b[0m\n\u001b[1;32m      9\u001b[0m         \u001b[0mc\u001b[0m \u001b[0;34m=\u001b[0m \u001b[0mfilter_python\u001b[0m\u001b[0;34m(\u001b[0m\u001b[0ml\u001b[0m\u001b[0;34m)\u001b[0m\u001b[0;34m\u001b[0m\u001b[0m\n",
      "\u001b[0;31mKeyboardInterrupt\u001b[0m: "
     ]
    }
   ],
   "source": [
    "#lets write a processing pipeline that logs a line with python to new file in real time\n",
    "import time\n",
    "def start_process():\n",
    "    file = open('lines.txt', mode='r')\n",
    "    out_file = open('out.txt', mode='w')\n",
    "    while True:\n",
    "        time.sleep(1)\n",
    "        l = filter_comment(file)\n",
    "        c = filter_python(l)\n",
    "        for line in c:\n",
    "            out_file.write(line)\n",
    "            out_file.flush()\n",
    "            \n",
    "start_process()\n",
    "        "
   ]
  },
  {
   "cell_type": "code",
   "execution_count": 356,
   "metadata": {
    "collapsed": true
   },
   "outputs": [],
   "source": [
    "#using the generator is more elefgant thean using the list and tuple \n",
    "#this makes the program more efficeient and we are never using any data structure\n"
   ]
  }
 ],
 "metadata": {
  "kernelspec": {
   "display_name": "Python [conda root]",
   "language": "python",
   "name": "conda-root-py"
  },
  "language_info": {
   "codemirror_mode": {
    "name": "ipython",
    "version": 3
   },
   "file_extension": ".py",
   "mimetype": "text/x-python",
   "name": "python",
   "nbconvert_exporter": "python",
   "pygments_lexer": "ipython3",
   "version": "3.5.2"
  }
 },
 "nbformat": 4,
 "nbformat_minor": 1
}
